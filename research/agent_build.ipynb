{
 "cells": [
  {
   "cell_type": "code",
   "id": "initial_id",
   "metadata": {
    "collapsed": true,
    "ExecuteTime": {
     "end_time": "2025-05-25T03:28:27.971153Z",
     "start_time": "2025-05-25T03:28:27.939629Z"
    }
   },
   "source": [
    "from dotenv import load_dotenv\n",
    "import os\n",
    "load_dotenv()\n"
   ],
   "outputs": [
    {
     "data": {
      "text/plain": [
       "True"
      ]
     },
     "execution_count": 1,
     "metadata": {},
     "output_type": "execute_result"
    }
   ],
   "execution_count": 1
  },
  {
   "metadata": {
    "ExecuteTime": {
     "end_time": "2025-05-25T03:28:29.506829Z",
     "start_time": "2025-05-25T03:28:28.493911Z"
    }
   },
   "cell_type": "code",
   "source": [
    "from google import genai\n",
    "client = genai.Client(api_key=os.environ.get(\"GEMINI_API_KEY\"))"
   ],
   "id": "62c408718e4ab142",
   "outputs": [],
   "execution_count": 2
  },
  {
   "metadata": {
    "ExecuteTime": {
     "end_time": "2025-05-25T03:28:31.282375Z",
     "start_time": "2025-05-25T03:28:31.264926Z"
    }
   },
   "cell_type": "code",
   "source": [
    "from pydantic import BaseModel\n",
    "from typing import List\n",
    "class CaloriesCountPerDish(BaseModel):\n",
    "    dish_name: str\n",
    "    Calories:int\n",
    "    carbohydrate: int\n",
    "    fat: int\n",
    "    protein: int\n",
    "\n",
    "class CaloriesCountPerMeal(BaseModel):\n",
    "     dishes: List[CaloriesCountPerDish]\n",
    "     meal_name: str\n",
    "     calories: int\n",
    "     carbohydrate: int\n",
    "     fat: int\n",
    "     protein: int\n"
   ],
   "id": "5ebc6b2569b438bc",
   "outputs": [],
   "execution_count": 3
  },
  {
   "metadata": {
    "ExecuteTime": {
     "end_time": "2025-05-25T03:28:45.960987Z",
     "start_time": "2025-05-25T03:28:36.815885Z"
    }
   },
   "cell_type": "code",
   "source": [
    "from google.genai import types\n",
    "\n",
    "YOUR_IMAGE_PATH = 'food.webp'\n",
    "YOUR_IMAGE_MIME_TYPE = 'image/webp'\n",
    "with open(YOUR_IMAGE_PATH, 'rb') as f:\n",
    "    image_bytes = f.read()\n",
    "\n",
    "for chunk in client.models.generate_content_stream(\n",
    "    model='gemini-2.0-flash-001',\n",
    "    contents=[\n",
    "        'you are ai assistant, your job is measure calories, carbohydrate, protein and fat of each dish separate on the basis of image or user input?',\n",
    "        types.Part.from_bytes(data=image_bytes, mime_type=YOUR_IMAGE_MIME_TYPE),\n",
    "    ],\n",
    "    config=types.GenerateContentConfig(\n",
    "        response_mime_type='application/json',\n",
    "        response_schema=CaloriesCountPerMeal,\n",
    "    )\n",
    "):\n",
    "    print(chunk.text, end='')"
   ],
   "id": "8540ea5d27c3c64",
   "outputs": [
    {
     "name": "stdout",
     "output_type": "stream",
     "text": [
      "{\n",
      "  \"dishes\": [\n",
      "    {\n",
      "      \"dish_name\": \"Garlic Naan\",\n",
      "      \"Calories\": 250,\n",
      "      \"carbohydrate\": 35,\n",
      "      \"fat\": 8,\n",
      "      \"protein\": 7\n",
      "    },\n",
      "    {\n",
      "      \"dish_name\": \"Tomato Salad\",\n",
      "      \"Calories\": 50,\n",
      "      \"carbohydrate\": 10,\n",
      "      \"fat\": 1,\n",
      "      \"protein\": 2\n",
      "    },\n",
      "    {\n",
      "      \"dish_name\": \"Chicken Tikka Masala\",\n",
      "      \"Calories\": 400,\n",
      "      \"carbohydrate\": 20,\n",
      "      \"fat\": 25,\n",
      "      \"protein\": 30\n",
      "    },\n",
      "    {\n",
      "      \"dish_name\": \"Rice\",\n",
      "      \"Calories\": 200,\n",
      "      \"carbohydrate\": 45,\n",
      "      \"fat\": 1,\n",
      "      \"protein\": 4\n",
      "    },\n",
      "    {\n",
      "      \"dish_name\": \"Papadum\",\n",
      "      \"Calories\": 60,\n",
      "      \"carbohydrate\": 8,\n",
      "      \"fat\": 3,\n",
      "      \"protein\": 2\n",
      "    },\n",
      "    {\n",
      "      \"dish_name\": \"Dal Tadka\",\n",
      "      \"Calories\": 150,\n",
      "      \"carbohydrate\": 20,\n",
      "      \"fat\": 5,\n",
      "      \"protein\": 8\n",
      "    },\n",
      "    {\n",
      "      \"dish_name\": \"Raita\",\n",
      "      \"Calories\": 80,\n",
      "      \"carbohydrate\": 5,\n",
      "      \"fat\": 6,\n",
      "      \"protein\": 3\n",
      "    }\n",
      "  ],\n",
      "  \"meal_name\": \"Indian Thali\",\n",
      "  \"calories\": 1190,\n",
      "  \"carbohydrate\": 143,\n",
      "  \"fat\": 49,\n",
      "  \"protein\": 56\n",
      "}"
     ]
    }
   ],
   "execution_count": 4
  },
  {
   "metadata": {},
   "cell_type": "code",
   "outputs": [],
   "execution_count": null,
   "source": "",
   "id": "8fbdfd89891e5898"
  }
 ],
 "metadata": {
  "kernelspec": {
   "display_name": "Python 3",
   "language": "python",
   "name": "python3"
  },
  "language_info": {
   "codemirror_mode": {
    "name": "ipython",
    "version": 2
   },
   "file_extension": ".py",
   "mimetype": "text/x-python",
   "name": "python",
   "nbconvert_exporter": "python",
   "pygments_lexer": "ipython2",
   "version": "2.7.6"
  }
 },
 "nbformat": 4,
 "nbformat_minor": 5
}
